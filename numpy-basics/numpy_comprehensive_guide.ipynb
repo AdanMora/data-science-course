{
 "cells": [
  {
   "cell_type": "markdown",
   "metadata": {},
   "source": [
    "# NumPy Comprehensive Guide\n",
    "\n",
    "## What is NumPy?\n",
    "\n",
    "NumPy (Numerical Python) is the fundamental package for scientific computing in Python. It provides:\n",
    "\n",
    "- **Multi-dimensional arrays**: Efficient data structures for storing and manipulating large datasets\n",
    "- **Mathematical functions**: Fast operations on arrays without loops\n",
    "- **Linear algebra**: Tools for matrix operations and mathematical computations\n",
    "- **Random number generation**: Various probability distributions\n",
    "- **Integration**: Works seamlessly with other scientific libraries (Pandas, Matplotlib, SciPy)\n",
    "\n",
    "## Why NumPy?\n",
    "\n",
    "- **Speed**: Written in C, much faster than Python lists\n",
    "- **Memory efficiency**: Optimized memory layout\n",
    "- **Vectorization**: Operations on entire arrays at once\n",
    "- **Broadcasting**: Automatic handling of different array shapes"
   ]
  },
  {
   "cell_type": "code",
   "execution_count": null,
   "id": "9fbd7ba2",
   "metadata": {},
   "outputs": [
    {
     "data": {
      "text/plain": [
       "[[[1, 2, 3, 4, 5], [6, 7, 8, 9, 10], [11, 12, 13, 14, 15]],\n",
       " [[1, 2, 3, 4, 5], [6, 7, 8, 9, 10], [11, 12, 13, 14, 15]]]"
      ]
     },
     "execution_count": 7,
     "metadata": {},
     "output_type": "execute_result"
    }
   ],
   "source": [
    "# l = [[1,2,3,4,5], \n",
    "#      [6,7,8,9,10], \n",
    "#      [11,12,13,14,15]]\n",
    "l = [[[1,2,3,4,5], \n",
    "      [6,7,8,9,10], \n",
    "      [11,12,13,14,15]],\n",
    "      [[1,2,3,4,5], \n",
    "      [6,7,8,9,10], \n",
    "      [11,12,13,14,15]]]\n",
    "l"
   ]
  },
  {
   "cell_type": "code",
   "execution_count": 10,
   "id": "2453c15d",
   "metadata": {},
   "outputs": [
    {
     "name": "stdout",
     "output_type": "stream",
     "text": [
      "1\n",
      "2\n",
      "3\n",
      "4\n",
      "5\n",
      "6\n",
      "7\n",
      "8\n",
      "9\n",
      "10\n",
      "11\n",
      "12\n",
      "13\n",
      "14\n",
      "15\n",
      "1\n",
      "2\n",
      "3\n",
      "4\n",
      "5\n",
      "6\n",
      "7\n",
      "8\n",
      "9\n",
      "10\n",
      "11\n",
      "12\n",
      "13\n",
      "14\n",
      "15\n"
     ]
    }
   ],
   "source": [
    "for i in l:\n",
    "    for j in i:\n",
    "        for k in j:\n",
    "            print(k)"
   ]
  },
  {
   "cell_type": "code",
   "execution_count": 1,
   "metadata": {},
   "outputs": [
    {
     "name": "stdout",
     "output_type": "stream",
     "text": [
      "NumPy version: 2.3.2\n"
     ]
    }
   ],
   "source": [
    "# Import NumPy\n",
    "import numpy as np\n",
    "\n",
    "# Check NumPy version\n",
    "print(f\"NumPy version: {np.__version__}\")"
   ]
  },
  {
   "cell_type": "code",
   "execution_count": 5,
   "id": "b924c977",
   "metadata": {},
   "outputs": [
    {
     "data": {
      "text/plain": [
       "array([[ 6,  8],\n",
       "       [10, 11]])"
      ]
     },
     "execution_count": 5,
     "metadata": {},
     "output_type": "execute_result"
    }
   ],
   "source": [
    "matrix_1 = np.array([[1, 2], [3, 4]])\n",
    "\n",
    "matrix_2 = np.array([[5, 6], [7, 7]])\n",
    "\n",
    "matrix_3 = matrix_1 + matrix_2\n",
    "matrix_3"
   ]
  },
  {
   "cell_type": "markdown",
   "metadata": {},
   "source": [
    "## 1. Creating Arrays\n",
    "\n",
    "### Basic Array Creation"
   ]
  },
  {
   "cell_type": "code",
   "execution_count": 16,
   "metadata": {},
   "outputs": [
    {
     "name": "stdout",
     "output_type": "stream",
     "text": [
      "1D Array: [1 2 3 4 5]\n",
      "Shape: (5,)\n",
      "Type: <class 'numpy.ndarray'>\n",
      "\n",
      "2D Array:\n",
      "[[1 2 3]\n",
      " [4 5 6]]\n",
      "Shape: (2, 3)\n",
      "Dimensions: 2\n",
      "\n",
      "3D Array:\n",
      "[[[1 2]\n",
      "  [3 4]]\n",
      "\n",
      " [[5 6]\n",
      "  [7 8]]\n",
      "\n",
      " [[1 2]\n",
      "  [3 4]]]\n",
      "Shape: (3, 2, 2)\n",
      "Dimensions: 3\n"
     ]
    }
   ],
   "source": [
    "# Create arrays from Python lists\n",
    "arr1 = np.array([1, 2, 3, 4, 5])\n",
    "arr2 = np.array([[1, 2, 3], [4, 5, 6]])\n",
    "arr3 = np.array([[[1, 2], [3, 4]], [[5, 6], [7, 8]], [[1, 2], [3, 4]]])\n",
    "\n",
    "print(\"1D Array:\", arr1)\n",
    "print(\"Shape:\", arr1.shape)\n",
    "print(\"Type:\", type(arr1))\n",
    "print(\"\\n2D Array:\")\n",
    "print(arr2)\n",
    "print(\"Shape:\", arr2.shape)\n",
    "print(\"Dimensions:\", arr2.ndim)\n",
    "print(\"\\n3D Array:\")\n",
    "print(arr3)\n",
    "print(\"Shape:\", arr3.shape)\n",
    "print(\"Dimensions:\", arr3.ndim)"
   ]
  },
  {
   "cell_type": "code",
   "execution_count": 22,
   "metadata": {},
   "outputs": [
    {
     "name": "stdout",
     "output_type": "stream",
     "text": [
      "Zeros:\n",
      "[[0. 0. 0. 0.]\n",
      " [0. 0. 0. 0.]\n",
      " [0. 0. 0. 0.]]\n",
      "\n",
      "Ones:\n",
      "[[1. 1. 1.]\n",
      " [1. 1. 1.]]\n",
      "\n",
      "Identity:\n",
      "[[1. 0. 0. 0.]\n",
      " [0. 1. 0. 0.]\n",
      " [0. 0. 1. 0.]\n",
      " [0. 0. 0. 1.]]\n",
      "\n",
      "Range: [ 0  3  6  9 12 15 18]\n",
      "\n",
      "Linspace: [0.         0.11111111 0.22222222 0.33333333 0.44444444 0.55555556\n",
      " 0.66666667 0.77777778 0.88888889 1.        ]\n"
     ]
    }
   ],
   "source": [
    "# Special arrays\n",
    "zeros = np.zeros((3, 4))  # 3x4 array of zeros\n",
    "ones = np.ones((2, 3))    # 2x3 array of ones\n",
    "eye = np.eye(4)           # 4x4 identity matrix\n",
    "range_arr = np.arange(0, 20, 3)  # 0 to 18 step 2\n",
    "linspace = np.linspace(0, 1, 10)  # 5 evenly spaced values from 0 to 1\n",
    "\n",
    "print(\"Zeros:\")\n",
    "print(zeros)\n",
    "print(\"\\nOnes:\")\n",
    "print(ones)\n",
    "print(\"\\nIdentity:\")\n",
    "print(eye)\n",
    "print(\"\\nRange:\", range_arr)\n",
    "print(\"\\nLinspace:\", linspace)"
   ]
  },
  {
   "cell_type": "markdown",
   "metadata": {},
   "source": [
    "## 2. Vectors and Tensors\n",
    "\n",
    "### Understanding Dimensions\n",
    "\n",
    "- **0D (Scalar)**: Single number\n",
    "- **1D (Vector)**: Array of numbers\n",
    "- **2D (Matrix)**: Array of arrays\n",
    "- **3D+ (Tensor)**: Higher dimensional arrays"
   ]
  },
  {
   "cell_type": "code",
   "execution_count": 25,
   "metadata": {},
   "outputs": [
    {
     "name": "stdout",
     "output_type": "stream",
     "text": [
      "Scalar (0D): 42, shape: (), dims: 0\n",
      "Vector (1D): [1 2 3], shape: (3,), dims: 1\n",
      "Matrix (2D): shape: (2, 2), dims: 2\n",
      "Tensor (3D): shape: (2, 2, 2), dims: 3\n",
      "\n",
      "Original: [ 0  1  2  3  4  5  6  7  8  9 10 11]\n",
      "Reshaped 2D:\n",
      "[[ 0  1  2  3]\n",
      " [ 4  5  6  7]\n",
      " [ 8  9 10 11]]\n",
      "Reshaped 3D:\n",
      "[[[ 0  1  2]\n",
      "  [ 3  4  5]]\n",
      "\n",
      " [[ 6  7  8]\n",
      "  [ 9 10 11]]]\n"
     ]
    }
   ],
   "source": [
    "# Different dimensional arrays\n",
    "scalar = np.array(42)           # 0D\n",
    "vector = np.array([1, 2, 3])    # 1D\n",
    "matrix = np.array([[1, 2], [3, 4]])  # 2D\n",
    "tensor_3d = np.array([[[1, 2], [3, 4]], [[5, 6], [7, 8]]])  # 3D\n",
    "\n",
    "print(f\"Scalar (0D): {scalar}, shape: {scalar.shape}, dims: {scalar.ndim}\")\n",
    "print(f\"Vector (1D): {vector}, shape: {vector.shape}, dims: {vector.ndim}\")\n",
    "print(f\"Matrix (2D): shape: {matrix.shape}, dims: {matrix.ndim}\")\n",
    "print(f\"Tensor (3D): shape: {tensor_3d.shape}, dims: {tensor_3d.ndim}\")\n",
    "\n",
    "# Reshaping arrays\n",
    "arr = np.arange(12)\n",
    "reshaped_2d = arr.reshape(3, 4)\n",
    "reshaped_3d = arr.reshape(2, 2, 3)\n",
    "\n",
    "print(f\"\\nOriginal: {arr}\")\n",
    "print(f\"Reshaped 2D:\\n{reshaped_2d}\")\n",
    "print(f\"Reshaped 3D:\\n{reshaped_3d}\")"
   ]
  },
  {
   "cell_type": "code",
   "execution_count": 26,
   "id": "11c658ed",
   "metadata": {},
   "outputs": [
    {
     "data": {
      "text/plain": [
       "array([ 0,  1,  2,  3,  4,  5,  6,  7,  8,  9, 10, 11])"
      ]
     },
     "execution_count": 26,
     "metadata": {},
     "output_type": "execute_result"
    }
   ],
   "source": [
    "reshaped_3d.flatten()"
   ]
  },
  {
   "cell_type": "markdown",
   "metadata": {},
   "source": [
    "## 3. Common Operations\n",
    "\n",
    "### Element-wise Operations"
   ]
  },
  {
   "cell_type": "code",
   "execution_count": 27,
   "metadata": {},
   "outputs": [
    {
     "name": "stdout",
     "output_type": "stream",
     "text": [
      "a: [1 2 3 4]\n",
      "b: [5 6 7 8]\n",
      "a + b: [ 6  8 10 12]\n",
      "a - b: [-4 -4 -4 -4]\n",
      "a * b: [ 5 12 21 32]\n",
      "a / b: [0.2        0.33333333 0.42857143 0.5       ]\n",
      "a ** 2: [ 1  4  9 16]\n",
      "sqrt(a): [1.         1.41421356 1.73205081 2.        ]\n",
      "sin(a): [ 0.84147098  0.90929743  0.14112001 -0.7568025 ]\n"
     ]
    }
   ],
   "source": [
    "# Arithmetic operations\n",
    "a = np.array([1, 2, 3, 4])\n",
    "b = np.array([5, 6, 7, 8])\n",
    "\n",
    "print(f\"a: {a}\")\n",
    "print(f\"b: {b}\")\n",
    "print(f\"a + b: {a + b}\")\n",
    "print(f\"a - b: {a - b}\")\n",
    "print(f\"a * b: {a * b}\")\n",
    "print(f\"a / b: {a / b}\")\n",
    "print(f\"a ** 2: {a ** 2}\")\n",
    "print(f\"sqrt(a): {np.sqrt(a)}\")\n",
    "print(f\"sin(a): {np.sin(a)}\")"
   ]
  },
  {
   "cell_type": "code",
   "execution_count": 28,
   "metadata": {},
   "outputs": [
    {
     "name": "stdout",
     "output_type": "stream",
     "text": [
      "Matrix A:\n",
      "[[1 2]\n",
      " [3 4]]\n",
      "\n",
      "Matrix B:\n",
      "[[5 6]\n",
      " [7 8]]\n",
      "\n",
      "Element-wise multiplication (A * B):\n",
      "[[ 5 12]\n",
      " [21 32]]\n",
      "\n",
      "Matrix multiplication (A @ B):\n",
      "[[19 22]\n",
      " [43 50]]\n",
      "\n",
      "Transpose of A:\n",
      "[[1 3]\n",
      " [2 4]]\n"
     ]
    }
   ],
   "source": [
    "# Matrix operations\n",
    "matrix_a = np.array([[1, 2], [3, 4]])\n",
    "matrix_b = np.array([[5, 6], [7, 8]])\n",
    "\n",
    "print(\"Matrix A:\")\n",
    "print(matrix_a)\n",
    "print(\"\\nMatrix B:\")\n",
    "print(matrix_b)\n",
    "\n",
    "# Element-wise multiplication\n",
    "print(\"\\nElement-wise multiplication (A * B):\")\n",
    "print(matrix_a * matrix_b)\n",
    "\n",
    "# Matrix multiplication\n",
    "print(\"\\nMatrix multiplication (A @ B):\")\n",
    "print(matrix_a @ matrix_b)\n",
    "\n",
    "# Transpose\n",
    "print(\"\\nTranspose of A:\")\n",
    "print(matrix_a.T)"
   ]
  },
  {
   "cell_type": "code",
   "execution_count": 29,
   "metadata": {},
   "outputs": [
    {
     "name": "stdout",
     "output_type": "stream",
     "text": [
      "Data: [ 1  2  3  4  5  6  7  8  9 10]\n",
      "Mean: 5.50\n",
      "Median: 5.50\n",
      "Standard deviation: 2.87\n",
      "Variance: 8.25\n",
      "Min: 1\n",
      "Max: 10\n",
      "Sum: 55\n",
      "Product: 3628800\n"
     ]
    }
   ],
   "source": [
    "# Statistical operations\n",
    "data = np.array([1, 2, 3, 4, 5, 6, 7, 8, 9, 10])\n",
    "\n",
    "print(f\"Data: {data}\")\n",
    "print(f\"Mean: {np.mean(data):.2f}\")\n",
    "print(f\"Median: {np.median(data):.2f}\")\n",
    "print(f\"Standard deviation: {np.std(data):.2f}\")\n",
    "print(f\"Variance: {np.var(data):.2f}\")\n",
    "print(f\"Min: {np.min(data)}\")\n",
    "print(f\"Max: {np.max(data)}\")\n",
    "print(f\"Sum: {np.sum(data)}\")\n",
    "print(f\"Product: {np.prod(data)}\")"
   ]
  },
  {
   "cell_type": "markdown",
   "metadata": {},
   "source": [
    "## 4. Indexing and Slicing\n",
    "\n",
    "### Basic Indexing"
   ]
  },
  {
   "cell_type": "code",
   "execution_count": 33,
   "id": "7f3fe37c",
   "metadata": {},
   "outputs": [],
   "source": [
    "l = [1,4,7,9,14]"
   ]
  },
  {
   "cell_type": "code",
   "execution_count": 41,
   "id": "65850d20",
   "metadata": {},
   "outputs": [
    {
     "data": {
      "text/plain": [
       "[14, 9, 7, 4, 1]"
      ]
     },
     "execution_count": 41,
     "metadata": {},
     "output_type": "execute_result"
    }
   ],
   "source": [
    "l[::-1]"
   ]
  },
  {
   "cell_type": "code",
   "execution_count": 43,
   "metadata": {},
   "outputs": [
    {
     "name": "stdout",
     "output_type": "stream",
     "text": [
      "Original array: [ 10  20  30  40  50  60  70  80  90 100]\n",
      "First element: 10\n",
      "Last element: 100\n",
      "Elements 2 to 5: [30 40 50 60]\n",
      "Every 2nd element: [10 30 50 70 90]\n",
      "Reverse array: [100  90  80  70  60  50  40  30  20  10]\n",
      "Last 3 elements: [ 70  80  90 100]\n"
     ]
    }
   ],
   "source": [
    "# 1D array indexing\n",
    "arr = np.array([10, 20, 30, 40, 50, 60, 70, 80, 90, 100])\n",
    "\n",
    "print(f\"Original array: {arr}\")\n",
    "print(f\"First element: {arr[0]}\")\n",
    "print(f\"Last element: {arr[-1]}\")\n",
    "print(f\"Elements 2 to 5: {arr[2:6]}\")\n",
    "print(f\"Every 2nd element: {arr[::2]}\")\n",
    "print(f\"Reverse array: {arr[::-1]}\")\n",
    "print(f\"Last 3 elements: {arr[-4:]}\")"
   ]
  },
  {
   "cell_type": "code",
   "execution_count": 22,
   "id": "85090b6f",
   "metadata": {},
   "outputs": [
    {
     "data": {
      "text/plain": [
       "array([60, 80])"
      ]
     },
     "execution_count": 22,
     "metadata": {},
     "output_type": "execute_result"
    }
   ],
   "source": [
    "arr = np.array([10, 20, 30, 40, 50, 60, 70, 80, 90, 100])\n",
    "# arr[5::2] # si\n",
    "# arr[5::] # no\n",
    "# arr[-5::2] # si\n",
    "# arr[-5:-1:2] # no\n",
    "arr[5:9:2]\n"
   ]
  },
  {
   "cell_type": "code",
   "execution_count": null,
   "metadata": {},
   "outputs": [
    {
     "name": "stdout",
     "output_type": "stream",
     "text": [
      "Matrix:\n",
      "[[ 1  2  3  4]\n",
      " [ 5  6  7  8]\n",
      " [ 9 10 11 12]]\n",
      "\n",
      "Shape: (3, 4)\n",
      "Element at row 1, column 2: 7\n",
      "Row 1: [5 6 7 8]\n",
      "Column 2: [ 3  7 11]\n",
      "Submatrix (rows 0-1, columns 1-3):\n",
      "[[2 3 4]\n",
      " [6 7 8]]\n"
     ]
    }
   ],
   "source": [
    "# 2D array indexing\n",
    "matrix = np.array([[1, 2, 3, 4], [5, 6, 7, 8], [9, 10, 11, 12]])\n",
    "\n",
    "print(\"Matrix:\")\n",
    "print(matrix)\n",
    "print(f\"\\nShape: {matrix.shape}\")\n",
    "print(f\"Element at row 1, column 2: {matrix[1, 2]}\")\n",
    "print(f\"Row 1: {matrix[1, :]}\")\n",
    "print(f\"Column 2: {matrix[:, 2]}\")\n",
    "print(f\"Submatrix (rows 0-1, columns 1-3):\")\n",
    "print(matrix[0:2, 1:4])"
   ]
  },
  {
   "cell_type": "code",
   "execution_count": 49,
   "metadata": {},
   "outputs": [
    {
     "name": "stdout",
     "output_type": "stream",
     "text": [
      "Array: [ 1  2  3  4  5  6  7  8  9 10]\n",
      "Mask (arr > 5): [False False False False False  True  True  True  True  True]\n",
      "Elements > 5: [ 6  7  8  9 10]\n",
      "\n",
      "Mask (3 < arr < 8): [False False False  True  True  True  True False False False]\n",
      "Elements 3 < arr < 8: [4 5 6 7]\n",
      "\n",
      "Indices where arr > 5: [5 6 7 8 9]\n",
      "Values at those indices: [ 6  7  8  9 10]\n"
     ]
    }
   ],
   "source": [
    "# Boolean indexing\n",
    "arr = np.array([1, 2, 3, 4, 5, 6, 7, 8, 9, 10])\n",
    "\n",
    "# Create boolean mask\n",
    "mask = arr > 5\n",
    "print(f\"Array: {arr}\")\n",
    "print(f\"Mask (arr > 5): {mask}\")\n",
    "print(f\"Elements > 5: {arr[mask]}\")\n",
    "\n",
    "# Multiple conditions\n",
    "# & (bitwise AND)\n",
    "# | (bitwise OR)\n",
    "mask2 = (arr > 3) & (arr < 8)\n",
    "print(f\"\\nMask (3 < arr < 8): {mask2}\")\n",
    "print(f\"Elements 3 < arr < 8: {arr[mask2]}\")\n",
    "\n",
    "# Using where function\n",
    "indices = np.where(arr > 5)\n",
    "print(f\"\\nIndices where arr > 5: {indices[0]}\")\n",
    "print(f\"Values at those indices: {arr[indices]}\")"
   ]
  },
  {
   "cell_type": "code",
   "execution_count": 48,
   "id": "171a94c5",
   "metadata": {},
   "outputs": [
    {
     "data": {
      "text/plain": [
       "array([4, 5, 6, 7])"
      ]
     },
     "execution_count": 48,
     "metadata": {},
     "output_type": "execute_result"
    }
   ],
   "source": [
    "arr"
   ]
  },
  {
   "cell_type": "markdown",
   "metadata": {},
   "source": [
    "## 5. Data Wrangling\n",
    "\n",
    "### Reshaping, Concatenating, and Splitting"
   ]
  },
  {
   "cell_type": "code",
   "execution_count": 50,
   "metadata": {},
   "outputs": [
    {
     "name": "stdout",
     "output_type": "stream",
     "text": [
      "Original array: [ 0  1  2  3  4  5  6  7  8  9 10 11 12 13 14 15 16 17 18 19 20 21 22 23]\n",
      "Shape: (24,)\n",
      "\n",
      "Reshaped to 4x6:\n",
      "[[ 0  1  2  3  4  5]\n",
      " [ 6  7  8  9 10 11]\n",
      " [12 13 14 15 16 17]\n",
      " [18 19 20 21 22 23]]\n",
      "\n",
      "Reshaped to 2x3x4:\n",
      "[[[ 0  1  2  3]\n",
      "  [ 4  5  6  7]\n",
      "  [ 8  9 10 11]]\n",
      "\n",
      " [[12 13 14 15]\n",
      "  [16 17 18 19]\n",
      "  [20 21 22 23]]]\n",
      "\n",
      "Flattened: [ 0  1  2  3  4  5  6  7  8  9 10 11 12 13 14 15 16 17 18 19 20 21 22 23]\n"
     ]
    }
   ],
   "source": [
    "# Reshaping arrays\n",
    "arr = np.arange(24)\n",
    "print(f\"Original array: {arr}\")\n",
    "print(f\"Shape: {arr.shape}\")\n",
    "\n",
    "# Reshape to 2D\n",
    "arr_2d = arr.reshape(4, 6)\n",
    "print(f\"\\nReshaped to 4x6:\")\n",
    "print(arr_2d)\n",
    "\n",
    "# Reshape to 3D\n",
    "arr_3d = arr.reshape(2, 3, 4)\n",
    "print(f\"\\nReshaped to 2x3x4:\")\n",
    "print(arr_3d)\n",
    "\n",
    "# Flatten back to 1D\n",
    "arr_flat = arr_3d.flatten()\n",
    "print(f\"\\nFlattened: {arr_flat}\")"
   ]
  },
  {
   "cell_type": "code",
   "execution_count": 53,
   "metadata": {},
   "outputs": [
    {
     "name": "stdout",
     "output_type": "stream",
     "text": [
      "Vertical concatenation:\n",
      "[[1 2 3]\n",
      " [4 5 6]\n",
      " [7 8 9]]\n",
      "\n",
      "Horizontal concatenation: [1 2 3 4 5 6 7 8 9]\n",
      "\n",
      "Concatenate axis=0: [1 2 3 4 5 6 7 8 9]\n",
      "\n",
      "Matrix 1:\n",
      "[[1 2]\n",
      " [3 4]]\n",
      "Matrix 2:\n",
      "[[5 6]\n",
      " [7 8]]\n",
      "\n",
      "Concatenated along rows:\n",
      "[[1 2]\n",
      " [3 4]\n",
      " [5 6]\n",
      " [7 8]]\n",
      "\n",
      "Concatenated along columns:\n",
      "[[1 2 5 6]\n",
      " [3 4 7 8]]\n"
     ]
    }
   ],
   "source": [
    "# Concatenating arrays\n",
    "arr1 = np.array([1, 2, 3])\n",
    "arr2 = np.array([4, 5, 6])\n",
    "arr3 = np.array([7, 8, 9])\n",
    "\n",
    "# Vertical concatenation (stacking rows)\n",
    "vertical = np.vstack([arr1, arr2, arr3])\n",
    "print(\"Vertical concatenation:\")\n",
    "print(vertical)\n",
    "\n",
    "# Horizontal concatenation (stacking columns)\n",
    "horizontal = np.hstack([arr1, arr2, arr3])\n",
    "print(f\"\\nHorizontal concatenation: {horizontal}\")\n",
    "\n",
    "# Using concatenate function\n",
    "axis0 = np.concatenate([arr1, arr2, arr3], axis=0)\n",
    "print(f\"\\nConcatenate axis=0: {axis0}\")\n",
    "\n",
    "# axis1 = np.concatenate([arr1, arr2, arr3], axis=1)\n",
    "# print(f\"\\nConcatenate axis=0: {axis1}\")\n",
    "\n",
    "# axis2 = np.concatenate([arr1, arr2, arr3], axis=2)\n",
    "# print(f\"\\nConcatenate axis=0: {axis2}\")\n",
    "\n",
    "# 2D arrays\n",
    "matrix1 = np.array([[1, 2], [3, 4]])\n",
    "matrix2 = np.array([[5, 6], [7, 8]])\n",
    "\n",
    "print(f\"\\nMatrix 1:\\n{matrix1}\")\n",
    "print(f\"Matrix 2:\\n{matrix2}\")\n",
    "print(f\"\\nConcatenated along rows:\")\n",
    "print(np.concatenate([matrix1, matrix2], axis=0))\n",
    "print(f\"\\nConcatenated along columns:\")\n",
    "print(np.concatenate([matrix1, matrix2], axis=1))"
   ]
  },
  {
   "cell_type": "code",
   "execution_count": 54,
   "metadata": {},
   "outputs": [
    {
     "name": "stdout",
     "output_type": "stream",
     "text": [
      "Original array: [ 0  1  2  3  4  5  6  7  8  9 10 11]\n",
      "\n",
      "Split into 3 parts:\n",
      "Part 0: [0 1 2 3]\n",
      "Part 1: [4 5 6 7]\n",
      "Part 2: [ 8  9 10 11]\n",
      "\n",
      "Split at indices [3, 7]:\n",
      "Part 0: [0 1 2]\n",
      "Part 1: [3 4 5 6]\n",
      "Part 2: [ 7  8  9 10 11]\n",
      "\n",
      "Matrix:\n",
      "[[ 1  2  3  4]\n",
      " [ 5  6  7  8]\n",
      " [ 9 10 11 12]]\n",
      "\n",
      "Horizontal split into 2:\n",
      "Part 0:\n",
      "[[ 1  2]\n",
      " [ 5  6]\n",
      " [ 9 10]]\n",
      "Part 1:\n",
      "[[ 3  4]\n",
      " [ 7  8]\n",
      " [11 12]]\n",
      "\n",
      "Vertical split into 3:\n",
      "Part 0:\n",
      "[[1 2 3 4]]\n",
      "Part 1:\n",
      "[[5 6 7 8]]\n",
      "Part 2:\n",
      "[[ 9 10 11 12]]\n"
     ]
    }
   ],
   "source": [
    "# Splitting arrays\n",
    "arr = np.arange(12)\n",
    "print(f\"Original array: {arr}\")\n",
    "\n",
    "# Split into 3 equal parts\n",
    "parts = np.split(arr, 3)\n",
    "print(f\"\\nSplit into 3 parts:\")\n",
    "for i, part in enumerate(parts):\n",
    "    print(f\"Part {i}: {part}\")\n",
    "\n",
    "# Split at specific indices\n",
    "split_indices = [3, 7]\n",
    "parts_custom = np.split(arr, split_indices)\n",
    "print(f\"\\nSplit at indices {split_indices}:\")\n",
    "for i, part in enumerate(parts_custom):\n",
    "    print(f\"Part {i}: {part}\")\n",
    "\n",
    "# Horizontal and vertical splitting for 2D arrays\n",
    "matrix = np.array([[1, 2, 3, 4], [5, 6, 7, 8], [9, 10, 11, 12]])\n",
    "print(f\"\\nMatrix:\\n{matrix}\")\n",
    "\n",
    "h_parts = np.hsplit(matrix, 2)\n",
    "print(f\"\\nHorizontal split into 2:\")\n",
    "for i, part in enumerate(h_parts):\n",
    "    print(f\"Part {i}:\\n{part}\")\n",
    "\n",
    "v_parts = np.vsplit(matrix, 3)\n",
    "print(f\"\\nVertical split into 3:\")\n",
    "for i, part in enumerate(v_parts):\n",
    "    print(f\"Part {i}:\\n{part}\")"
   ]
  },
  {
   "cell_type": "markdown",
   "metadata": {},
   "source": [
    "## 6. Broadcasting\n",
    "\n",
    "NumPy's broadcasting allows operations between arrays of different shapes."
   ]
  },
  {
   "cell_type": "code",
   "execution_count": 6,
   "metadata": {},
   "outputs": [
    {
     "name": "stdout",
     "output_type": "stream",
     "text": [
      "Array: [1 2 3 4]\n",
      "Scalar: 10\n",
      "Array + scalar: [11 12 13 14]\n",
      "Array * scalar: [10 20 30 40]\n",
      "\n",
      "Matrix:\n",
      "[[1 2 3]\n",
      " [4 5 6]]\n",
      "Vector: [10 20 30]\n",
      "\n",
      "Matrix + vector (broadcasting):\n",
      "[[11 22 33]\n",
      " [14 25 36]]\n",
      "\n",
      "2D array:\n",
      "[[1]\n",
      " [2]\n",
      " [3]]\n",
      "1D array: [10 20 30]\n",
      "\n",
      "2D + 1D (broadcasting):\n",
      "[[11 21 31]\n",
      " [12 22 32]\n",
      " [13 23 33]]\n"
     ]
    }
   ],
   "source": [
    "# Broadcasting examples\n",
    "arr = np.array([1, 2, 3, 4])\n",
    "scalar = 10\n",
    "\n",
    "print(f\"Array: {arr}\")\n",
    "print(f\"Scalar: {scalar}\")\n",
    "print(f\"Array + scalar: {arr + scalar}\")\n",
    "print(f\"Array * scalar: {arr * scalar}\")\n",
    "\n",
    "# Broadcasting with different shapes\n",
    "matrix = np.array([[1, 2, 3], [4, 5, 6]])\n",
    "vector = np.array([10, 20, 30])\n",
    "\n",
    "print(f\"\\nMatrix:\\n{matrix}\")\n",
    "print(f\"Vector: {vector}\")\n",
    "print(f\"\\nMatrix + vector (broadcasting):\")\n",
    "print(matrix + vector)\n",
    "\n",
    "# Broadcasting rules\n",
    "arr_2d = np.array([[1], [2], [3]])\n",
    "arr_1d = np.array([10, 20, 30])\n",
    "\n",
    "print(f\"\\n2D array:\\n{arr_2d}\")\n",
    "print(f\"1D array: {arr_1d}\")\n",
    "print(f\"\\n2D + 1D (broadcasting):\")\n",
    "print(arr_2d + arr_1d)"
   ]
  },
  {
   "cell_type": "markdown",
   "metadata": {},
   "source": [
    "## 7. Practice Exercises\n",
    "\n",
    "### Basic Exercises"
   ]
  },
  {
   "cell_type": "markdown",
   "metadata": {},
   "source": [
    "**Exercise 1: Array Creation**\n",
    "Create a 3x4 matrix filled with random integers between 1 and 100."
   ]
  },
  {
   "cell_type": "code",
   "execution_count": null,
   "metadata": {},
   "outputs": [],
   "source": [
    "# Your code here\n",
    "# Hint: Use np.random.randint()\n",
    "\n"
   ]
  },
  {
   "cell_type": "markdown",
   "metadata": {},
   "source": [
    "**Exercise 2: Statistical Analysis**\n",
    "Given an array of student scores [85, 92, 78, 96, 88, 75, 89, 91], calculate:\n",
    "- Mean, median, standard deviation\n",
    "- Number of students above 90\n",
    "- Percentage of students above 85"
   ]
  },
  {
   "cell_type": "code",
   "execution_count": null,
   "metadata": {},
   "outputs": [],
   "source": [
    "# Your code here\n",
    "scores = np.array([85, 92, 78, 96, 88, 75, 89, 91])\n"
   ]
  },
  {
   "cell_type": "markdown",
   "metadata": {},
   "source": [
    "**Exercise 3: Matrix Operations**\n",
    "Create two 2x2 matrices and perform:\n",
    "- Element-wise multiplication\n",
    "- Matrix multiplication\n",
    "- Calculate determinant and inverse"
   ]
  },
  {
   "cell_type": "code",
   "execution_count": null,
   "metadata": {},
   "outputs": [],
   "source": [
    "# Your code here\n",
    "# Hint: Use np.linalg.det() and np.linalg.inv()\n"
   ]
  },
  {
   "cell_type": "markdown",
   "metadata": {},
   "source": [
    "**Exercise 4: Data Filtering**\n",
    "Create an array of 20 random numbers between 0 and 100, then:\n",
    "- Find all numbers divisible by 3\n",
    "- Find all numbers that are perfect squares\n",
    "- Create a boolean mask for numbers between 25 and 75"
   ]
  },
  {
   "cell_type": "code",
   "execution_count": null,
   "metadata": {},
   "outputs": [],
   "source": [
    "# Your code here\n",
    "# Hint: Use np.mod() for remainder and np.sqrt() for square root\n"
   ]
  },
  {
   "cell_type": "markdown",
   "metadata": {},
   "source": [
    "**Exercise 5: Array Reshaping**\n",
    "Create a 1D array of 24 elements and reshape it into:\n",
    "- A 2x12 matrix\n",
    "- A 3x8 matrix\n",
    "- A 2x3x4 tensor\n",
    "- Then flatten it back to 1D"
   ]
  },
  {
   "cell_type": "code",
   "execution_count": null,
   "metadata": {},
   "outputs": [],
   "source": [
    "# Your code here\n",
    "# Hint: Use .reshape() and .flatten() methods\n"
   ]
  },
  {
   "cell_type": "markdown",
   "metadata": {},
   "source": [
    "## 8. Complex Exercises\n",
    "\n",
    "### Advanced Problems to Test Your Understanding"
   ]
  },
  {
   "cell_type": "markdown",
   "metadata": {},
   "source": [
    "**Complex Exercise 1: Image Processing Simulation**\n",
    "\n",
    "Create a 10x10 \"image\" represented as a 2D array where:\n",
    "- Values 0-50 represent dark pixels\n",
    "- Values 51-100 represent medium pixels  \n",
    "- Values 101-255 represent bright pixels\n",
    "\n",
    "Then:\n",
    "1. Generate a random image with values 0-255\n",
    "2. Apply a filter that increases brightness by 20% for all pixels\n",
    "3. Create a mask for pixels that are too bright (>200) and reduce them by 30%\n",
    "4. Calculate the histogram of pixel values\n",
    "5. Find the coordinates of the brightest and darkest pixels"
   ]
  },
  {
   "cell_type": "code",
   "execution_count": null,
   "metadata": {},
   "outputs": [],
   "source": [
    "# Your code here\n",
    "# This is a complex exercise that combines multiple concepts\n",
    "\n",
    "# Solution:\n",
    "# # 1. Generate random image\n",
    "# image = np.random.randint(0, 256, (10, 10))\n",
    "# print(\"Original image:\")\n",
    "# print(image)\n",
    "# \n",
    "# # 2. Increase brightness by 20%\n",
    "# brightened = np.clip(image * 1.2, 0, 255).astype(int)\n",
    "# print(\"\\nBrightened image:\")\n",
    "# print(brightened)\n",
    "# \n",
    "# # 3. Reduce too bright pixels\n",
    "# bright_mask = brightened > 200\n",
    "# brightened[bright_mask] = (brightened[bright_mask] * 0.7).astype(int)\n",
    "# print(\"\\nAdjusted image:\")\n",
    "# print(brightened)\n",
    "# \n",
    "# # 4. Histogram\n",
    "# hist, bins = np.histogram(brightened, bins=range(0, 257, 25))\n",
    "# print(f\"\\nHistogram bins: {bins[:-1]}\")\n",
    "# print(f\"Histogram counts: {hist}\")\n",
    "# \n",
    "# # 5. Find brightest and darkest\n",
    "# max_coords = np.unravel_index(np.argmax(brightened), brightened.shape)\n",
    "# min_coords = np.unravel_index(np.argmin(brightened), brightened.shape)\n",
    "# print(f\"\\nBrightest pixel at {max_coords}: {brightened[max_coords]}\")\n",
    "# print(f\"Darkest pixel at {min_coords}: {brightened[min_coords]}\")"
   ]
  },
  {
   "cell_type": "markdown",
   "metadata": {},
   "source": [
    "**Complex Exercise 2: Financial Data Analysis**\n",
    "\n",
    "Simulate 100 days of stock price data where:\n",
    "- Initial price is $100\n",
    "- Daily returns follow a normal distribution with mean 0.001 and std 0.02\n",
    "- Calculate daily prices from returns\n",
    "\n",
    "Then:\n",
    "1. Calculate daily returns from prices\n",
    "2. Find the maximum drawdown (largest peak-to-trough decline)\n",
    "3. Calculate rolling 10-day volatility\n",
    "4. Identify days with returns > 2 standard deviations\n",
    "5. Calculate Value at Risk (VaR) at 95% confidence level"
   ]
  },
  {
   "cell_type": "code",
   "execution_count": null,
   "metadata": {},
   "outputs": [],
   "source": [
    "# Your code here\n",
    "# This exercise tests understanding of financial calculations and array operations\n",
    "\n",
    "# Solution:\n",
    "# # Generate daily returns\n",
    "# np.random.seed(42)\n",
    "# daily_returns = np.random.normal(0.001, 0.02, 100)\n",
    "# \n",
    "# # Calculate prices\n",
    "# prices = np.zeros(100)\n",
    "# prices[0] = 100\n",
    "# for i in range(1, 100):\n",
    "#     prices[i] = prices[i-1] * (1 + daily_returns[i])\n",
    "# \n",
    "# # 1. Calculate returns from prices\n",
    "# calculated_returns = np.diff(prices) / prices[:-1]\n",
    "# \n",
    "# # 2. Maximum drawdown\n",
    "# peak = np.maximum.accumulate(prices)\n",
    "# drawdown = (prices - peak) / peak\n",
    "# max_drawdown = np.min(drawdown)\n",
    "# \n",
    "# # 3. Rolling volatility\n",
    "# rolling_vol = np.array([np.std(calculated_returns[i:i+10]) for i in range(90)])\n",
    "# \n",
    "# # 4. Outlier days\n",
    "# threshold = 2 * np.std(calculated_returns)\n",
    "# outlier_days = np.where(np.abs(calculated_returns) > threshold)[0]\n",
    "# \n",
    "# # 5. VaR\n",
    "# var_95 = np.percentile(calculated_returns, 5)\n",
    "# \n",
    "# print(f\"Max drawdown: {max_drawdown:.4f}\")\n",
    "# print(f\"Outlier days: {outlier_days}\")\n",
    "# print(f\"VaR 95%: {var_95:.4f}\")"
   ]
  },
  {
   "cell_type": "markdown",
   "metadata": {},
   "source": [
    "**Complex Exercise 3: Machine Learning Data Preparation**\n",
    "\n",
    "Create a synthetic dataset for machine learning with:\n",
    "- 1000 samples\n",
    "- 5 features (X) and 1 target (y)\n",
    "- Features: 2 numerical, 2 categorical (encoded), 1 binary\n",
    "- Target: binary classification (0 or 1)\n",
    "\n",
    "Then:\n",
    "1. Split data into training (70%) and testing (30%) sets\n",
    "2. Normalize numerical features to [0,1] range\n",
    "3. Create feature correlation matrix\n",
    "4. Handle missing values (add 5% random missing values)\n",
    "5. Create polynomial features for numerical columns\n",
    "6. Calculate class balance and create balanced dataset if needed"
   ]
  },
  {
   "cell_type": "code",
   "execution_count": null,
   "metadata": {},
   "outputs": [],
   "source": [
    "# Your code here\n",
    "# This exercise combines data manipulation, statistics, and ML concepts\n",
    "\n",
    "# Solution:\n",
    "# np.random.seed(42)\n",
    "# n_samples = 1000\n",
    "# \n",
    "# # Generate features\n",
    "# numerical1 = np.random.normal(0, 1, n_samples)\n",
    "# numerical2 = np.random.uniform(-5, 5, n_samples)\n",
    "# categorical1 = np.random.choice(['A', 'B', 'C'], n_samples)\n",
    "# categorical2 = np.random.choice(['X', 'Y', 'Z'], n_samples)\n",
    "# binary = np.random.choice([0, 1], n_samples)\n",
    "# \n",
    "# # Encode categorical variables\n",
    "# cat1_encoded = np.array([['A', 'B', 'C'].index(x) for x in categorical1])\n",
    "# cat2_encoded = np.array([['X', 'Y', 'Z'].index(x) for x in categorical2])\n",
    "# \n",
    "# # Create target (simple rule-based)\n",
    "# target = ((numerical1 > 0) & (numerical2 > 0) & (binary == 1)).astype(int)\n",
    "# \n",
    "# # Combine features\n",
    "# X = np.column_stack([numerical1, numerical2, cat1_encoded, cat2_encoded, binary])\n",
    "# \n",
    "# # 1. Split data\n",
    "# split_idx = int(0.7 * n_samples)\n",
    "# X_train, X_test = X[:split_idx], X[split_idx:]\n",
    "# y_train, y_test = target[:split_idx], target[split_idx:]\n",
    "# \n",
    "# # 2. Normalize numerical features\n",
    "# X_train_norm = X_train.copy()\n",
    "# X_test_norm = X_test.copy()\n",
    "# \n",
    "# for i in [0, 1]:  # numerical columns\n",
    "#     min_val = np.min(X_train[:, i])\n",
    "#     max_val = np.max(X_train[:, i])\n",
    "#     X_train_norm[:, i] = (X_train[:, i] - min_val) / (max_val - min_val)\n",
    "#     X_test_norm[:, i] = (X_test[:, i] - min_val) / (max_val - min_val)\n",
    "# \n",
    "# # 3. Correlation matrix\n",
    "# corr_matrix = np.corrcoef(X_train_norm.T)\n",
    "# \n",
    "# # 4. Add missing values\n",
    "# missing_mask = np.random.random(X_train_norm.shape) < 0.05\n",
    "# X_train_missing = X_train_norm.copy()\n",
    "# X_train_missing[missing_mask] = np.nan\n",
    "# \n",
    "# # 5. Polynomial features\n",
    "# poly_features = np.column_stack([\n",
    "#     X_train_norm[:, 0],  # numerical1\n",
    "#     X_train_norm[:, 1],  # numerical2\n",
    "#     X_train_norm[:, 0] ** 2,  # numerical1^2\n",
    "#     X_train_norm[:, 1] ** 2,  # numerical2^2\n",
    "#     X_train_norm[:, 0] * X_train_norm[:, 1]  # interaction\n",
    "# ])\n",
    "# \n",
    "# # 6. Class balance\n",
    "# class_counts = np.bincount(y_train)\n",
    "# print(f\"Class distribution: {class_counts}\")\n",
    "# print(f\"Training samples: {X_train.shape[0]}\")\n",
    "# print(f\"Testing samples: {X_test.shape[0]}\")\n",
    "# print(f\"Feature correlation shape: {corr_matrix.shape}\")\n",
    "# print(f\"Missing values: {np.sum(missing_mask)}\")\n",
    "# print(f\"Polynomial features shape: {poly_features.shape}\")"
   ]
  }
 ],
 "metadata": {
  "kernelspec": {
   "display_name": "venv",
   "language": "python",
   "name": "python3"
  },
  "language_info": {
   "codemirror_mode": {
    "name": "ipython",
    "version": 3
   },
   "file_extension": ".py",
   "mimetype": "text/x-python",
   "name": "python",
   "nbconvert_exporter": "python",
   "pygments_lexer": "ipython3",
   "version": "3.13.3"
  }
 },
 "nbformat": 4,
 "nbformat_minor": 5
}
